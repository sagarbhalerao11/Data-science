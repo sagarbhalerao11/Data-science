{
 "cells": [
  {
   "cell_type": "code",
   "execution_count": 30,
   "id": "1bee379f",
   "metadata": {},
   "outputs": [],
   "source": [
    "import requests\n",
    "from bs4 import BeautifulSoup\n",
    "import pandas as pd\n"
   ]
  },
  {
   "cell_type": "code",
   "execution_count": 31,
   "id": "0b9317d4",
   "metadata": {},
   "outputs": [],
   "source": [
    "url='https://www.flipkart.com/search?q=mobile&otracker=search&otracker1=search&marketplace=FLIPKART&as-show=on&as=off'\n",
    "req=requests.get(url)\n"
   ]
  },
  {
   "cell_type": "code",
   "execution_count": 32,
   "id": "f684251d",
   "metadata": {},
   "outputs": [],
   "source": [
    "nm=[]\n",
    "pr=[]\n",
    "rt=[]"
   ]
  },
  {
   "cell_type": "code",
   "execution_count": 33,
   "id": "599ee489",
   "metadata": {},
   "outputs": [],
   "source": [
    "for i in name:\n",
    "    nm.append(i.text)\n",
    "for i in price:\n",
    "    pr.append(i.text)\n",
    "for i in rating:\n",
    "    rt.append(i.text)\n"
   ]
  },
  {
   "cell_type": "code",
   "execution_count": 34,
   "id": "d9e94f03",
   "metadata": {},
   "outputs": [],
   "source": [
    "content=BeautifulSoup(req.content,'html.parser')\n",
    "#print(content)\n"
   ]
  },
  {
   "cell_type": "code",
   "execution_count": 35,
   "id": "e37abf74",
   "metadata": {},
   "outputs": [],
   "source": [
    "name=content.find_all('div',{\"class\":\"_4rR01T\"})\n",
    "price= content.find_all('div',{\"class\":\"_30jeq3 _1_WHN1\"})\n",
    "rating=content.find_all('div',{\"class\":\"_3LWZIK\"})"
   ]
  },
  {
   "cell_type": "code",
   "execution_count": 36,
   "id": "434291a3",
   "metadata": {},
   "outputs": [],
   "source": [
    "data={'NAME':nm,'PRICE':pr,'RATING':rt}\n",
    "df=pd.DataFrame.from_dict(data, orient='index')\n",
    "df = df.transpose\n"
   ]
  },
  {
   "cell_type": "code",
   "execution_count": 37,
   "id": "95adb980",
   "metadata": {},
   "outputs": [
    {
     "name": "stdout",
     "output_type": "stream",
     "text": [
      "<bound method DataFrame.transpose of                                             0   \\\n",
      "NAME    realme Narzo 50i (Carbon Black, 32 GB)   \n",
      "PRICE                                   ₹7,499   \n",
      "RATING                                    None   \n",
      "\n",
      "                                          1                                2   \\\n",
      "NAME    realme Narzo 50i (Mint Green, 32 GB)  realme C21Y (Cross Blue, 32 GB)   \n",
      "PRICE                                 ₹7,499                           ₹8,999   \n",
      "RATING                                  None                             None   \n",
      "\n",
      "                                      3   \\\n",
      "NAME    realme C21Y (Cross Black, 32 GB)   \n",
      "PRICE                             ₹8,999   \n",
      "RATING                              None   \n",
      "\n",
      "                                            4   \\\n",
      "NAME    realme Narzo 50A (Oxygen Blue, 128 GB)   \n",
      "PRICE                                  ₹12,499   \n",
      "RATING                                    None   \n",
      "\n",
      "                                      5   \\\n",
      "NAME    realme C21Y (Cross Black, 64 GB)   \n",
      "PRICE                             ₹9,999   \n",
      "RATING                              None   \n",
      "\n",
      "                                          6                                7   \\\n",
      "NAME    REDMI 9i Sport (Carbon Black, 64 GB)  realme 8i (Space Purple, 64 GB)   \n",
      "PRICE                                 ₹8,499                          ₹13,999   \n",
      "RATING                                  None                             None   \n",
      "\n",
      "                                    8   \\\n",
      "NAME    realme 8i (Space Black, 64 GB)   \n",
      "PRICE                          ₹13,999   \n",
      "RATING                            None   \n",
      "\n",
      "                                             9   ...  \\\n",
      "NAME    realme Narzo 50A (Oxygen Green, 128 GB)  ...   \n",
      "PRICE                                   ₹12,499  ...   \n",
      "RATING                                     None  ...   \n",
      "\n",
      "                                            14                          15  \\\n",
      "NAME    realme Narzo 50i (Carbon Black, 64 GB)  REDMI 9i (Sea Blue, 64 GB)   \n",
      "PRICE                                   ₹8,999                      ₹8,499   \n",
      "RATING                                    None                        None   \n",
      "\n",
      "                                       16                               17  \\\n",
      "NAME    realme C25Y (Glacier Blue, 64 GB)  realme C25Y (Metal Grey, 64 GB)   \n",
      "PRICE                             ₹10,999                          ₹10,999   \n",
      "RATING                               None                             None   \n",
      "\n",
      "                                           18  \\\n",
      "NAME    realme Narzo 50A (Oxygen Blue, 64 GB)   \n",
      "PRICE                                 ₹11,499   \n",
      "RATING                                   None   \n",
      "\n",
      "                                      19  \\\n",
      "NAME    REDMI 9i (Midnight Black, 64 GB)   \n",
      "PRICE                             ₹8,499   \n",
      "RATING                              None   \n",
      "\n",
      "                                            20  \\\n",
      "NAME    realme 8s 5G (Universe Purple, 128 GB)   \n",
      "PRICE                                  ₹19,999   \n",
      "RATING                                    None   \n",
      "\n",
      "                                          21  \\\n",
      "NAME    realme 8s 5G (Universe Blue, 128 GB)   \n",
      "PRICE                                ₹19,999   \n",
      "RATING                                  None   \n",
      "\n",
      "                                         22                            23  \n",
      "NAME    MOTOROLA G60 (Dynamic Gray, 128 GB)  POCO C31 (Royal Blue, 64 GB)  \n",
      "PRICE                               ₹15,999                        ₹9,499  \n",
      "RATING                                 None                          None  \n",
      "\n",
      "[3 rows x 24 columns]>\n"
     ]
    }
   ],
   "source": [
    "print(df)"
   ]
  },
  {
   "cell_type": "code",
   "execution_count": null,
   "id": "bef57ddc",
   "metadata": {},
   "outputs": [],
   "source": []
  }
 ],
 "metadata": {
  "kernelspec": {
   "display_name": "Python 3 (ipykernel)",
   "language": "python",
   "name": "python3"
  },
  "language_info": {
   "codemirror_mode": {
    "name": "ipython",
    "version": 3
   },
   "file_extension": ".py",
   "mimetype": "text/x-python",
   "name": "python",
   "nbconvert_exporter": "python",
   "pygments_lexer": "ipython3",
   "version": "3.9.7"
  }
 },
 "nbformat": 4,
 "nbformat_minor": 5
}
